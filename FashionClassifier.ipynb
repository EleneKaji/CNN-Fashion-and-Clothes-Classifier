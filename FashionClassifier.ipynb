{
 "cells": [
  {
   "cell_type": "code",
   "execution_count": 733,
   "metadata": {},
   "outputs": [],
   "source": [
    "import torch\n",
    "from torch.utils.data import DataLoader # loads data either in chunks or full\n",
    "import torch.nn.functional as F\n",
    "from torchvision import datasets # open datasets\n",
    "from torchvision.transforms import ToTensor # transfor data to tensor\n",
    "import matplotlib.pyplot as plt"
   ]
  },
  {
   "cell_type": "code",
   "execution_count": 734,
   "metadata": {},
   "outputs": [
    {
     "data": {
      "text/plain": [
       "'cuda:0'"
      ]
     },
     "execution_count": 734,
     "metadata": {},
     "output_type": "execute_result"
    }
   ],
   "source": [
    "# choosing gpu for training\n",
    "device = (\"cuda:0\" if torch.cuda.is_available() else \"cpu\")\n",
    "device"
   ]
  },
  {
   "cell_type": "code",
   "execution_count": 735,
   "metadata": {},
   "outputs": [],
   "source": [
    "# download training and test data from open datasets.\n",
    "train_data = datasets.FashionMNIST(\n",
    "    root=\"data\",\n",
    "    train=True,\n",
    "    download=True,\n",
    "    transform=ToTensor(),\n",
    ")\n",
    "\n",
    "test_data = datasets.FashionMNIST(\n",
    "    root=\"data\",\n",
    "    train=False,\n",
    "    download=True,\n",
    "    transform=ToTensor(),\n",
    ")"
   ]
  },
  {
   "cell_type": "code",
   "execution_count": 736,
   "metadata": {},
   "outputs": [],
   "source": [
    "# loading the data\n",
    "train_dataloader = DataLoader(train_data, batch_size=64) # goes over 938 batches of 64\n",
    "test_dataloader = DataLoader(test_data, batch_size=64)"
   ]
  },
  {
   "cell_type": "code",
   "execution_count": 737,
   "metadata": {},
   "outputs": [
    {
     "name": "stdout",
     "output_type": "stream",
     "text": [
      "Name: Sneaker, Number: 7\n"
     ]
    },
    {
     "data": {
      "image/png": "[encoded data removed]",
      "text/plain": [
       "<Figure size 640x480 with 1 Axes>"
      ]
     },
     "metadata": {},
     "output_type": "display_data"
    }
   ],
   "source": [
    "# plotting and understanding images and labels with first batch\n",
    "\n",
    "labels_map = {\n",
    "    0: \"T-Shirt\",\n",
    "    1: \"Trouser\",\n",
    "    2: \"Pullover\",\n",
    "    3: \"Dress\",\n",
    "    4: \"Coat\",\n",
    "    5: \"Sandal\",\n",
    "    6: \"Shirt\",\n",
    "    7: \"Sneaker\",\n",
    "    8: \"Bag\",\n",
    "    9: \"Ankle Boot\",\n",
    "}\n",
    "\n",
    "images, labels = next(iter(train_dataloader))\n",
    "idx = torch.randint(0, 64, (1,)).item()\n",
    "image = images[idx].squeeze()\n",
    "label = labels[idx]\n",
    "print(f\"Name: {labels_map[label.item()]}, Number: {label.item()}\")\n",
    "plt.imshow(image, cmap=\"grey\")\n",
    "plt.show()"
   ]
  },
  {
   "cell_type": "code",
   "execution_count": 738,
   "metadata": {},
   "outputs": [
    {
     "name": "stdout",
     "output_type": "stream",
     "text": [
      "Input (images): torch.Size([64, 784])\t Output (labels): torch.Size([64])\n"
     ]
    }
   ],
   "source": [
    "# flattening the image from 2d to 1d\n",
    "images = images.view(images.size(0), -1)\n",
    "print(f\"Input (images): {images.shape}\\t Output (labels): {labels.shape}\")\n"
   ]
  },
  {
   "cell_type": "code",
   "execution_count": 739,
   "metadata": {},
   "outputs": [],
   "source": [
    "# implementing MLP\n",
    "\n",
    "class Neuron:\n",
    "    # nin is number of inputs\n",
    "    def __init__(self, nin):\n",
    "        self.w = torch.rand(nin, requires_grad=True, device=\"cuda:0\")\n",
    "        self.b = torch.randn(1, requires_grad=True, device=\"cuda:0\")\n",
    "    \n",
    "    # x is how many inputs\n",
    "    def __call__(self, x):\n",
    "        x = torch.as_tensor(x).clone().detach().requires_grad_(True).float() # clone tensor \n",
    "        act = torch.matmul(self.w, x) + self.b  # matrix multiplication with compatible shapes\n",
    "        out = torch.tanh(act)\n",
    "        return out # tensor of 1D with 1 value\n",
    "    \n",
    "    def parameters(self):\n",
    "        return torch.cat([self.w, self.b]).requires_grad_()\n",
    "    \n",
    "class Layer:\n",
    "    def __init__(self, nin, nout):\n",
    "        # create nout neurons with nin inputs\n",
    "        # the amount of neurons is based on how many outputs we need\n",
    "        self.neurons = [Neuron(nin) for _ in range(nout)] # list of neurons\n",
    "    \n",
    "    # x is how many neurons\n",
    "    def __call__(self, x):\n",
    "        x = torch.as_tensor(x).cuda().clone().detach().requires_grad_(True).float()\n",
    "        outs = [n(x) for n in self.neurons]\n",
    "        # print(self.layers[0].parameters())\n",
    "        return outs[0] if len(outs) == 1 else outs\n",
    "    \n",
    "    def parameters(self):\n",
    "        return [p for neuron in self.neurons for p in neuron.parameters()]\n",
    "\n",
    "class MLP:\n",
    "    # nin is number of inputs\n",
    "    # nouts is the list of number of outputs/neurons per each layer\n",
    "    def __init__(self, nin, nouts):\n",
    "        sz = [nin] + nouts\n",
    "        self.layers = [Layer(sz[i], sz[i + 1]) for i in range(len(nouts))]\n",
    "    \n",
    "    # bruh this is forward propagation?? weird\n",
    "    def __call__(self, x):\n",
    "        x = torch.as_tensor(x).cuda().clone().detach().requires_grad_(True).float()\n",
    "        for layer in self.layers:\n",
    "            x = layer(x) # x is the input from the other neurons\n",
    "        return x\n",
    "    \n",
    "    def parameters(self):\n",
    "        return [p for layer in self.layers for p in layer.parameters()]\n",
    "    "
   ]
  },
  {
   "cell_type": "code",
   "execution_count": 740,
   "metadata": {},
   "outputs": [
    {
     "data": {
      "text/plain": [
       "tensor([-1.0000], device='cuda:0', grad_fn=<TanhBackward0>)"
      ]
     },
     "execution_count": 740,
     "metadata": {},
     "output_type": "execute_result"
    }
   ],
   "source": [
    "# implementing neuron\n",
    "neuron = Neuron(784)\n",
    "random_tensor = torch.randn(784, dtype=torch.float32, device=device)\n",
    "neuron(random_tensor)"
   ]
  },
  {
   "cell_type": "code",
   "execution_count": 741,
   "metadata": {},
   "outputs": [
    {
     "data": {
      "text/plain": [
       "[tensor([-1.], device='cuda:0', grad_fn=<TanhBackward0>),\n",
       " tensor([-1.], device='cuda:0', grad_fn=<TanhBackward0>),\n",
       " tensor([-1.], device='cuda:0', grad_fn=<TanhBackward0>),\n",
       " tensor([-1.], device='cuda:0', grad_fn=<TanhBackward0>),\n",
       " tensor([-1.], device='cuda:0', grad_fn=<TanhBackward0>),\n",
       " tensor([-1.], device='cuda:0', grad_fn=<TanhBackward0>),\n",
       " tensor([-1.], device='cuda:0', grad_fn=<TanhBackward0>),\n",
       " tensor([-1.], device='cuda:0', grad_fn=<TanhBackward0>),\n",
       " tensor([-0.9697], device='cuda:0', grad_fn=<TanhBackward0>),\n",
       " tensor([-0.9331], device='cuda:0', grad_fn=<TanhBackward0>)]"
      ]
     },
     "execution_count": 741,
     "metadata": {},
     "output_type": "execute_result"
    }
   ],
   "source": [
    "# implementing layer\n",
    "layer = Layer(784, 10)\n",
    "layer(random_tensor)"
   ]
  },
  {
   "cell_type": "code",
   "execution_count": 742,
   "metadata": {},
   "outputs": [
    {
     "data": {
      "text/plain": [
       "tensor([-1.0000], device='cuda:0', grad_fn=<TanhBackward0>)"
      ]
     },
     "execution_count": 742,
     "metadata": {},
     "output_type": "execute_result"
    }
   ],
   "source": [
    "mlp = MLP(784, [16, 16, 1])\n",
    "mlp(random_tensor)"
   ]
  },
  {
   "cell_type": "code",
   "execution_count": 743,
   "metadata": {},
   "outputs": [],
   "source": [
    "images, labels = images.to(device), labels.to(device)\n",
    "labels = labels / 10"
   ]
  },
  {
   "cell_type": "code",
   "execution_count": 768,
   "metadata": {},
   "outputs": [
    {
     "name": "stderr",
     "output_type": "stream",
     "text": [
      "C:\\Users\\Elene2004\\AppData\\Local\\Temp\\ipykernel_5620\\2361245539.py:16: UserWarning: The .grad attribute of a Tensor that is not a leaf Tensor is being accessed. Its .grad attribute won't be populated during autograd.backward(). If you indeed want the .grad field to be populated for a non-leaf Tensor, use .retain_grad() on the non-leaf Tensor. If you access the non-leaf Tensor by mistake, make sure you access the leaf Tensor instead. See github.com/pytorch/pytorch/pull/30531 for more informations. (Triggered internally at C:\\cb\\pytorch_1000000000000\\work\\build\\aten\\src\\ATen/core/TensorBody.h:494.)\n",
      "  if p.grad is not None:\n"
     ]
    },
    {
     "data": {
      "text/plain": [
       "tensor([26.8493], device='cuda:0', grad_fn=<AddBackward0>)"
      ]
     },
     "execution_count": 768,
     "metadata": {},
     "output_type": "execute_result"
    }
   ],
   "source": [
    "ypred = [mlp(img) for img in images]\n",
    "# ypred\n",
    "# stacked_tensor = torch.stack(ypred)\n",
    "# stacked_tensor\n",
    "# print(stacked_tensor)\n",
    "# print(labels)\n",
    "\n",
    "loss = sum([(yout - ygt) ** 2 for ygt, yout in zip(labels, ypred)])\n",
    "# # [print(l.requires_grad) for l in mlp.parameters()]\n",
    "\n",
    "# # for l in mlp.parameters():\n",
    "# #     if l.requires_grad is not True:\n",
    "# #         print(\"boohoo\")\n",
    "# # Zero out gradients\n",
    "for p in mlp.parameters():\n",
    "    if p.grad is not None:\n",
    "        p.grad.zero_()  # Zero out gradients for each parameter\n",
    "\n",
    "# Backpropagation\n",
    "ypred.backward(retain_graph=True)\n",
    "\n",
    "# Update parameters using gradient descent\n",
    "learning_rate = 0.5\n",
    "with torch.no_grad():  # Disable gradient tracking for parameter update\n",
    "    for p in mlp.parameters():\n",
    "        if p.grad is not None:  # Check if gradient is not None\n",
    "            p.data += learning_rate * p.grad # Update parameters using gradient descent\n",
    "\n",
    "loss"
   ]
  },
  {
   "cell_type": "code",
   "execution_count": null,
   "metadata": {},
   "outputs": [],
   "source": [
    "# i = 0\n",
    "# for batch, (x, y) in enumerate(train_dataloader):\n",
    "#     x = x.view(x.size(0), -1)\n",
    "\n",
    "#     x, y = x.to(device), y.to(device)\n",
    "\n",
    "#     for img in x:\n",
    "#         # img.to(device)\n",
    "#         # print(img.shape)\n",
    "#         mlp(img)"
   ]
  }
 ],
 "metadata": {
  "kernelspec": {
   "display_name": "myenv",
   "language": "python",
   "name": "python3"
  },
  "language_info": {
   "codemirror_mode": {
    "name": "ipython",
    "version": 3
   },
   "file_extension": ".py",
   "mimetype": "text/x-python",
   "name": "python",
   "nbconvert_exporter": "python",
   "pygments_lexer": "ipython3",
   "version": "3.10.14"
  }
 },
 "nbformat": 4,
 "nbformat_minor": 2
}
