{
 "cells": [
  {
   "cell_type": "code",
   "execution_count": 494,
   "metadata": {},
   "outputs": [],
   "source": [
    "import torch\n",
    "from torch.utils.data import DataLoader # loads data either in chunks or full\n",
    "import torch.nn.functional as F\n",
    "from torchvision import datasets # open datasets\n",
    "from torchvision.transforms import ToTensor # transfor data to tensor\n",
    "import matplotlib.pyplot as plt"
   ]
  },
  {
   "cell_type": "code",
   "execution_count": 495,
   "metadata": {},
   "outputs": [
    {
     "data": {
      "text/plain": [
       "'cuda:0'"
      ]
     },
     "execution_count": 495,
     "metadata": {},
     "output_type": "execute_result"
    }
   ],
   "source": [
    "# choosing gpu for training\n",
    "device = (\"cuda:0\" if torch.cuda.is_available() else \"cpu\")\n",
    "device"
   ]
  },
  {
   "cell_type": "code",
   "execution_count": 496,
   "metadata": {},
   "outputs": [],
   "source": [
    "# download training and test data from open datasets.\n",
    "train_data = datasets.FashionMNIST(\n",
    "    root=\"data\",\n",
    "    train=True,\n",
    "    download=True,\n",
    "    transform=ToTensor(),\n",
    ")\n",
    "\n",
    "test_data = datasets.FashionMNIST(\n",
    "    root=\"data\",\n",
    "    train=False,\n",
    "    download=True,\n",
    "    transform=ToTensor(),\n",
    ")"
   ]
  },
  {
   "cell_type": "code",
   "execution_count": 497,
   "metadata": {},
   "outputs": [],
   "source": [
    "# loading the data\n",
    "train_dataloader = DataLoader(train_data, batch_size=64) # goes over 938 batches of 64\n",
    "test_dataloader = DataLoader(test_data, batch_size=64)"
   ]
  },
  {
   "cell_type": "code",
   "execution_count": 498,
   "metadata": {},
   "outputs": [
    {
     "name": "stdout",
     "output_type": "stream",
     "text": [
      "Name: Pullover, Number: 2\n"
     ]
    },
    {
     "data": {
      "image/png": "[encoded data removed]",
      "text/plain": [
       "<Figure size 640x480 with 1 Axes>"
      ]
     },
     "metadata": {},
     "output_type": "display_data"
    }
   ],
   "source": [
    "# plotting and understanding images and labels with first batch\n",
    "\n",
    "labels_map = {\n",
    "    0: \"T-Shirt\",\n",
    "    1: \"Trouser\",\n",
    "    2: \"Pullover\",\n",
    "    3: \"Dress\",\n",
    "    4: \"Coat\",\n",
    "    5: \"Sandal\",\n",
    "    6: \"Shirt\",\n",
    "    7: \"Sneaker\",\n",
    "    8: \"Bag\",\n",
    "    9: \"Ankle Boot\",\n",
    "}\n",
    "\n",
    "images, labels = next(iter(train_dataloader))\n",
    "idx = torch.randint(0, 64, (1,)).item()\n",
    "image = images[idx].squeeze()\n",
    "label = labels[idx]\n",
    "print(f\"Name: {labels_map[label.item()]}, Number: {label.item()}\")\n",
    "plt.imshow(image, cmap=\"grey\")\n",
    "plt.show()"
   ]
  },
  {
   "cell_type": "code",
   "execution_count": 499,
   "metadata": {},
   "outputs": [
    {
     "name": "stdout",
     "output_type": "stream",
     "text": [
      "Input (images): torch.Size([64, 784])\t Output (labels): torch.Size([64])\n"
     ]
    }
   ],
   "source": [
    "# flattening the image from 2d to 1d\n",
    "images = images.view(images.size(0), -1)\n",
    "print(f\"Input (images): {images.shape}\\t Output (labels): {labels.shape}\")\n"
   ]
  },
  {
   "cell_type": "code",
   "execution_count": 500,
   "metadata": {},
   "outputs": [],
   "source": [
    "# implementing MLP\n",
    "\n",
    "class Neuron:\n",
    "    # nin is number of inputs\n",
    "    def __init__(self, nin):\n",
    "        self.w = torch.rand(nin, requires_grad=True, device=\"cuda:0\")\n",
    "        self.b = torch.randn(1, requires_grad=True, device=\"cuda:0\")\n",
    "    \n",
    "    # x is how many inputs\n",
    "    def __call__(self, x):\n",
    "        act = torch.matmul(self.w, x) + self.b  # matrix multiplication with compatible shapes\n",
    "        # print(sum(act))\n",
    "        out = torch.tanh(act)\n",
    "        return out # tensor of 1D with 1 value\n",
    "    \n",
    "    def parameters(self):\n",
    "        return [self.w, self.b]\n",
    "    \n",
    "class Layer:\n",
    "    def __init__(self, nin, nout):\n",
    "        # create nout neurons with nin inputs\n",
    "        # the amount of neurons is based on how many outputs we need\n",
    "        self.neurons = [Neuron(nin) for _ in range(nout)] # list of neurons\n",
    "    \n",
    "    # x is how many neurons\n",
    "    def __call__(self, x):\n",
    "        # x = torch.as_tensor(x).cuda().clone().requires_grad_(True).float()\n",
    "        # print(x.grad)\n",
    "        outs = [n(x) for n in self.neurons]\n",
    "        # print(self.layers[0].parameters())\n",
    "        return torch.stack(outs)\n",
    "    \n",
    "    def parameters(self):\n",
    "        return [p for neuron in self.neurons for p in neuron.parameters()]\n",
    "\n",
    "class MLP:\n",
    "    # nin is number of inputs\n",
    "    # nouts is the list of number of outputs/neurons per each layer\n",
    "    def __init__(self, nin, nouts, lr):\n",
    "        self.lr = lr\n",
    "        sz = [nin] + nouts\n",
    "        self.layers = [Layer(sz[i], sz[i + 1]) for i in range(len(nouts))]\n",
    "    \n",
    "    # bruh this is forward propagation?? weird\n",
    "    def __call__(self, x):\n",
    "        # x = torch.as_tensor(x).cuda().clone().detach().requires_grad_(True).float()\n",
    "        for layer in self.layers:\n",
    "            x = layer(x) # x is the input from the other neurons\n",
    "        return x\n",
    "    \n",
    "    def parameters(self):\n",
    "        return [p for layer in self.layers for p in layer.parameters()]\n",
    "    \n",
    "    def update_parameters(self):\n",
    "        with torch.no_grad():\n",
    "            for param in self.parameters():\n",
    "                temp = param.data\n",
    "                param.data -= self.lr * param.grad\n",
    "                param.grad.zero_()\n",
    "                # print(temp, param.data)\n",
    "    \n",
    "    def zero_grads(self):\n",
    "        with torch.no_grad():\n",
    "            for param in self.parameters():\n",
    "                print(param.grad)\n",
    "    "
   ]
  },
  {
   "cell_type": "code",
   "execution_count": 501,
   "metadata": {},
   "outputs": [],
   "source": [
    "# random_tensor = torch.randn(3, dtype=torch.float32, device=\"cuda:0\")\n",
    "# labels = torch.randn((2,), dtype=torch.float32, device=\"cuda:0\")\n",
    "\n",
    "# mlp = MLP(3, [4, 4, 2], lr=0.01)\n"
   ]
  },
  {
   "cell_type": "code",
   "execution_count": 502,
   "metadata": {},
   "outputs": [],
   "source": [
    "# b = mlp.parameters()\n",
    "# a = 0\n",
    "\n",
    "# for i in range(1600):\n",
    "#     ypred = mlp(random_tensor)\n",
    "#     loss = sum([(yout - ygt) ** 2 for ygt, yout in zip(labels, ypred)])\n",
    "\n",
    "#     loss.backward()\n",
    "\n",
    "#     mlp.update_parameters()\n",
    "\n",
    "#     if i % 100 == 0:\n",
    "#         print(f\"Iteration {i}, Loss: {loss.item()}\")\n",
    "    \n",
    "#     a = mlp.parameters()\n",
    "\n",
    "# b == a"
   ]
  },
  {
   "cell_type": "code",
   "execution_count": 503,
   "metadata": {},
   "outputs": [],
   "source": [
    "images, labels = images.to(device), labels.to(device)\n",
    "labels = labels / 10"
   ]
  },
  {
   "cell_type": "code",
   "execution_count": 504,
   "metadata": {},
   "outputs": [],
   "source": [
    "mlp = MLP(nin=784, nouts=[4, 4, 1], lr=0.00001)"
   ]
  },
  {
   "cell_type": "code",
   "execution_count": 505,
   "metadata": {},
   "outputs": [],
   "source": [
    "before_params = [p.clone() for p in mlp.parameters()]"
   ]
  },
  {
   "cell_type": "code",
   "execution_count": 506,
   "metadata": {},
   "outputs": [],
   "source": [
    "# loss = 0\n",
    "# for i in range(len(labels)):\n",
    "#     ypred = mlp(images[i])\n",
    "\n",
    "#     frac_loss = sum((ypred - labels[i]) ** 2)\n",
    "\n",
    "#     # loss.backward()\n",
    "\n",
    "#     # mlp.update_parameters()\n",
    "\n",
    "#     loss += frac_loss\n",
    "#     print(loss)\n",
    "\n",
    "\n",
    "# before_params = mlp.parameters()\n",
    "after_params = 0\n",
    "\n",
    "# for epoch in range(1):\n",
    "#     print(f\"Epoch {epoch}\")\n",
    "#     print(\"-----------------------------\")\n",
    "#     for batch, (x, y) in enumerate(train_dataloader):\n",
    "#         if batch < 200:\n",
    "#             x, y = x.to(device), y.to(device)\n",
    "#             x_flattened = x.view(x.size(0), -1)\n",
    "            \n",
    "#             ypred = [sum(mlp(x_img)) for x_img in x_flattened]\n",
    "#             loss = sum([(yprd - yact) ** 2 for yprd, yact in zip(ypred, y)])\n",
    "\n",
    "#             # mlp.zero_grads()\n",
    "\n",
    "#             loss.backward()\n",
    "\n",
    "#             mlp.update_parameters()\n",
    "\n",
    "#             if batch % 100 == 0:\n",
    "#                 print(f\"loss: {loss.item()}\\t {(batch + 1) * 64}/{len(train_dataloader) * 64}\")\n",
    "            \n",
    "#             after_params = mlp.parameters()\n",
    "\n",
    "    # print(loss)\n",
    "\n",
    "for i in range(1000):\n",
    "\n",
    "    ypred = [sum(mlp(img)) for img in images]\n",
    "    loss = sum([(yout - ygt) ** 2 for ygt, yout in zip(labels, ypred)])\n",
    "\n",
    "    loss.backward()\n",
    "\n",
    "    mlp.update_parameters()\n",
    "    after_params = mlp.parameters()\n",
    "    # print(loss)\n",
    "    # loss \n",
    "# for before, after in zip(before_params, after_params):\n",
    "#     print(torch.all(before == after))\n"
   ]
  },
  {
   "cell_type": "code",
   "execution_count": 507,
   "metadata": {},
   "outputs": [
    {
     "name": "stdout",
     "output_type": "stream",
     "text": [
      "Name: Coat, Number: 4\n"
     ]
    },
    {
     "data": {
      "image/png": "[encoded data removed]",
      "text/plain": [
       "<Figure size 640x480 with 1 Axes>"
      ]
     },
     "metadata": {},
     "output_type": "display_data"
    },
    {
     "name": "stdout",
     "output_type": "stream",
     "text": [
      "loss: 0.3515852987766266, actual: 0.4000000059604645, predicted: 0.9929463267326355\n"
     ]
    },
    {
     "data": {
      "text/plain": [
       "tensor([[0.9929]], device='cuda:0', grad_fn=<StackBackward0>)"
      ]
     },
     "execution_count": 507,
     "metadata": {},
     "output_type": "execute_result"
    }
   ],
   "source": [
    "test_images, test_labels = next(iter(test_dataloader))\n",
    "\n",
    "idx = torch.randint(0, 64, (1,)).item()\n",
    "test_image = test_images[idx].squeeze()\n",
    "test_label = test_labels[idx]\n",
    "print(f\"Name: {labels_map[test_label.item()]}, Number: {test_label.item()}\")\n",
    "plt.imshow(test_image, cmap=\"grey\")\n",
    "plt.show()\n",
    "\n",
    "test_labels_ = test_labels / 10\n",
    "\n",
    "test_image = test_image.to(\"cuda:0\")\n",
    "test_image_flattened = test_image.view(-1)\n",
    "test_ypred = mlp(test_image_flattened)\n",
    "\n",
    "test_labels_ = test_labels_.to(device)\n",
    "test_loss = sum((test_ypred - test_labels_[idx]) ** 2)\n",
    "\n",
    "print(f\"loss: {test_loss.item()}, actual: {test_labels_[idx]}, predicted: {test_ypred.item()}\")\n",
    "# test_image_flattened\n",
    "test_ypred"
   ]
  },
  {
   "cell_type": "code",
   "execution_count": 508,
   "metadata": {},
   "outputs": [],
   "source": [
    "# # Evaluate the model on the test set\n",
    "# with torch.no_grad():\n",
    "#     ypred_test = [n(x) for x in xs_test]\n",
    "#     test_loss = sum([(yout - ygt) ** 2 for ygt, yout in zip(ys_test, ypred_test)])\n",
    "#     test_loss = test_loss.item()\n",
    "\n",
    "# print(f\"Test Loss: {test_loss}\")\n",
    "\n",
    "# # Print some example predictions and their corresponding actual values\n",
    "# for i in range(5):\n",
    "#     print(f\"Predicted: {ypred_test[i]}, Actual: {ys_test[i]}\")\n"
   ]
  },
  {
   "cell_type": "code",
   "execution_count": 509,
   "metadata": {},
   "outputs": [],
   "source": [
    "# for i in range(10000):\n",
    "#     # Randomly select an index\n",
    "#     ix = torch.randint(0, 64, (1,)).item()\n",
    "    \n",
    "#     # Forward pass through the MLP\n",
    "#     output = mlp(images[ix]).squeeze()\n",
    "    \n",
    "#     # Calculate the loss\n",
    "#     loss = torch.nn.functional.cross_entropy(output.unsqueeze(0), labels[ix].unsqueeze(0))\n",
    "\n",
    "#     # Backpropagation\n",
    "#     loss.backward()\n",
    "\n",
    "#     # Update parameters\n",
    "#     mlp.update_parameters()\n",
    "\n",
    "#     # Print the loss\n",
    "#     print(f\"loss: {loss.item()}\")\n"
   ]
  },
  {
   "cell_type": "code",
   "execution_count": 510,
   "metadata": {},
   "outputs": [],
   "source": [
    "# i = 0\n",
    "# for batch, (x, y) in enumerate(train_dataloader):\n",
    "#     x = x.view(x.size(0), -1)\n",
    "\n",
    "#     x, y = x.to(device), y.to(device)\n",
    "\n",
    "#     for img in x:\n",
    "#         # img.to(device)\n",
    "#         # print(img.shape)\n",
    "#         mlp(img)"
   ]
  }
 ],
 "metadata": {
  "kernelspec": {
   "display_name": "myenv",
   "language": "python",
   "name": "python3"
  },
  "language_info": {
   "codemirror_mode": {
    "name": "ipython",
    "version": 3
   },
   "file_extension": ".py",
   "mimetype": "text/x-python",
   "name": "python",
   "nbconvert_exporter": "python",
   "pygments_lexer": "ipython3",
   "version": "3.10.14"
  }
 },
 "nbformat": 4,
 "nbformat_minor": 2
}
